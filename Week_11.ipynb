{
  "nbformat": 4,
  "nbformat_minor": 0,
  "metadata": {
    "colab": {
      "provenance": [],
      "authorship_tag": "ABX9TyN8ssglmHlQW0Pvo8Wl/rZb",
      "include_colab_link": true
    },
    "kernelspec": {
      "name": "python3",
      "display_name": "Python 3"
    },
    "language_info": {
      "name": "python"
    }
  },
  "cells": [
    {
      "cell_type": "markdown",
      "metadata": {
        "id": "view-in-github",
        "colab_type": "text"
      },
      "source": [
        "<a href=\"https://colab.research.google.com/github/senandungarimbichh/Praktikum-Alpro/blob/main/Week_11.ipynb\" target=\"_parent\"><img src=\"https://colab.research.google.com/assets/colab-badge.svg\" alt=\"Open In Colab\"/></a>"
      ]
    },
    {
      "cell_type": "code",
      "source": [
        "import mymodule\n",
        "a = mymodule.About_me\n",
        "print(a)\n",
        "\n",
        "#OUTPUT : {'Nama': 'Senandung', 'Kelas',: 'Rombel 1', 'Fav warna': 'pink'}"
      ],
      "metadata": {
        "id": "KpjkFmNKxMBb",
        "colab": {
          "base_uri": "https://localhost:8080/"
        },
        "outputId": "fa049041-766c-4481-a4f1-116d603b1af9"
      },
      "execution_count": null,
      "outputs": [
        {
          "output_type": "stream",
          "name": "stdout",
          "text": [
            "{'Nama': 'Senandung', 'Kelas': 'Rombel 1', 'Fav warna': 'pink'}\n"
          ]
        }
      ]
    },
    {
      "cell_type": "code",
      "source": [
        "# WEEKLY EXERCISE 1\n",
        "# Menghitung luas bangun datar\n",
        "import matematika\n",
        "\n",
        "# Fungsi luas lingkaran\n",
        "# Misalkan jari jari = 4\n",
        "jari_jari = 4\n",
        "Llingkaran = matematika.luas_lingkaran(jari_jari)\n",
        "print(f\"Luas lingkaran dengan jari-jari {jari_jari} adalah {Llingkaran}\")\n",
        "\n",
        "# Fungsi luas persegi\n",
        "# Misalkan panjang sisi 7\n",
        "sisi = 7\n",
        "Lpersegi = matematika.luas_persegi(sisi)\n",
        "print(f\"Luas persegi dengan panjang sisi {sisi} adalah {Lpersegi}\")"
      ],
      "metadata": {
        "colab": {
          "base_uri": "https://localhost:8080/"
        },
        "id": "vPgloum4wQcN",
        "outputId": "37e0b546-f042-46e8-ea21-1f6ec983259d"
      },
      "execution_count": null,
      "outputs": [
        {
          "output_type": "stream",
          "name": "stdout",
          "text": [
            "Luas lingkaran dengan jari-jari 4 adalah 50.24\n",
            "Luas persegi dengan panjang sisi 7 adalah 49\n"
          ]
        }
      ]
    },
    {
      "cell_type": "code",
      "source": [
        "import math\n",
        "# 1. math.pow = menghitung pangkat\n",
        "x = 5\n",
        "y = 3\n",
        "print(f\"hasil {x} pangkat {y} = {math.pow(x, y)}\")\n",
        "print()\n",
        "\n",
        "# 2. math.factorial = menghitung faktorial seuatu bilangan\n",
        "x = 7\n",
        "print(f\"hasil faktorial dari {x} adalah {math.factorial(x)}\")\n",
        "\n",
        "# 3. math.ceil = membulatkan bilangan ke atas\n",
        "x = 4.3\n",
        "print(f\"jika {x} dibulatkan ke atas, maka menjadi {math.ceil(x)}\")\n",
        "print()\n",
        "\n",
        "# 4. math.floor = membulatkan bilangan ke bawah\n",
        "x = 15.6\n",
        "print(f\"jika {x} dibulatkan ke bawah, maka menjadi {math.floor(x)}\")\n",
        "print()\n",
        "\n",
        "# 5. math.sqrt = untuk menghiung akar kuadrat\n",
        "angka = 64\n",
        "akar = math.sqrt(angka)\n",
        "print(f\"Akar kuadrat dari {angka} adalah {akar}\")"
      ],
      "metadata": {
        "colab": {
          "base_uri": "https://localhost:8080/"
        },
        "id": "uxynYt5F2MGa",
        "outputId": "d7ee830d-e621-4d32-81db-0ea5ad77fcee"
      },
      "execution_count": null,
      "outputs": [
        {
          "output_type": "stream",
          "name": "stdout",
          "text": [
            "hasil 5 pangkat 3 = 125.0\n",
            "\n",
            "hasil faktorial dari 7 adalah 5040\n",
            "jika 4.3 dibulatkan ke atas, maka menjadi 5\n",
            "\n",
            "jika 15.6 dibulatkan ke bawah, maka menjadi 15\n",
            "\n",
            "Akar kuadrat dari 64 adalah 8.0\n"
          ]
        }
      ]
    }
  ]
}