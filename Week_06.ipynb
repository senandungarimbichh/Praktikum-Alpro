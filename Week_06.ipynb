{
  "cells": [
    {
      "cell_type": "markdown",
      "metadata": {
        "id": "view-in-github",
        "colab_type": "text"
      },
      "source": [
        "<a href=\"https://colab.research.google.com/github/senandungarimbichh/Praktikum-Alpro/blob/main/Week_06.ipynb\" target=\"_parent\"><img src=\"https://colab.research.google.com/assets/colab-badge.svg\" alt=\"Open In Colab\"/></a>"
      ]
    },
    {
      "cell_type": "code",
      "execution_count": null,
      "metadata": {
        "colab": {
          "base_uri": "https://localhost:8080/"
        },
        "id": "yAEwnAeeYcOR",
        "outputId": "b8d209d1-4f14-4b79-fd98-0c341e167c0f"
      },
      "outputs": [
        {
          "data": {
            "text/plain": [
              "range(0, 3)"
            ]
          },
          "execution_count": 1,
          "metadata": {},
          "output_type": "execute_result"
        }
      ],
      "source": [
        "# Use the range\n",
        "range(3)"
      ]
    },
    {
      "cell_type": "code",
      "execution_count": null,
      "metadata": {
        "colab": {
          "base_uri": "https://localhost:8080/"
        },
        "id": "miVKzVebaWQY",
        "outputId": "023088aa-262e-47f6-b3c5-3f05db6494b1"
      },
      "outputs": [
        {
          "output_type": "stream",
          "name": "stdout",
          "text": [
            "2001\n",
            "2002\n"
          ]
        }
      ],
      "source": [
        "# For loop example\n",
        "\n",
        "dates = [2001,2002,2003]\n",
        "N = 2\n",
        "\n",
        "for i in range(N):\n",
        "    print(dates[i])"
      ]
    },
    {
      "cell_type": "code",
      "source": [
        "# While Loop Example\n",
        "\n",
        "dates = [3, 6, 9, 12, 15, 18]\n",
        "\n",
        "i = 0\n",
        "year = 0\n",
        "\n",
        "while(year != 6):\n",
        "    year = dates[i]\n",
        "    i = i + 1\n",
        "    print(year)\n",
        "\n",
        "print(\"It took \", i ,\"repetitions to get out of loop.\")"
      ],
      "metadata": {
        "colab": {
          "base_uri": "https://localhost:8080/"
        },
        "id": "Jf0peC3mGJgH",
        "outputId": "91e4b40c-f08c-4c4e-90e8-6a3483c5aeda"
      },
      "execution_count": null,
      "outputs": [
        {
          "output_type": "stream",
          "name": "stdout",
          "text": [
            "3\n",
            "6\n",
            "It took  2 repetitions to get out of loop.\n"
          ]
        }
      ]
    },
    {
      "cell_type": "code",
      "source": [
        "#Nested Loop Example\n",
        "\n",
        "for i in range(0, 5):\n",
        "    for j in range(0, 5):\n",
        "        print(i * j, end=' ')\n",
        "    print(\"\", \"\\n\")"
      ],
      "metadata": {
        "colab": {
          "base_uri": "https://localhost:8080/"
        },
        "id": "OtP9andQHmvx",
        "outputId": "93d673a7-3f74-4aad-e2bc-22ad36d8e534"
      },
      "execution_count": null,
      "outputs": [
        {
          "output_type": "stream",
          "name": "stdout",
          "text": [
            "0 0 0 0 0  \n",
            "\n",
            "0 1 2 3 4  \n",
            "\n",
            "0 2 4 6 8  \n",
            "\n",
            "0 3 6 9 12  \n",
            "\n",
            "0 4 8 12 16  \n",
            "\n"
          ]
        }
      ]
    },
    {
      "cell_type": "code",
      "source": [
        "names = ['kiss', 'kopiko', 'sugus']\n",
        "# outer loop\n",
        "for name in names:\n",
        "    # inner while loop\n",
        "    count = 0\n",
        "    while count < 3:\n",
        "        print(name, end=' ')\n",
        "        # increment counter\n",
        "        count = count + 1\n",
        "    print()"
      ],
      "metadata": {
        "colab": {
          "base_uri": "https://localhost:8080/"
        },
        "id": "LQwQhDESJuUw",
        "outputId": "969cb225-bc7c-4c4c-a662-d8d6c6ec25ca"
      },
      "execution_count": null,
      "outputs": [
        {
          "output_type": "stream",
          "name": "stdout",
          "text": [
            "kiss kiss kiss \n",
            "kopiko kopiko kopiko \n",
            "sugus sugus sugus \n"
          ]
        }
      ]
    },
    {
      "cell_type": "code",
      "source": [
        "i = 1\n",
        "while(i <= 10) :\n",
        "    bintang = \"\"\n",
        "j = 10\n",
        "k = 4\n",
        "while (j >= i) :\n",
        "    bintang += \" \"\n",
        "j -= 1\n",
        "while (k <= 1) :\n",
        "    bintang += \"*_\"\n",
        "k += 1\n",
        "bintang += \"*\"\n",
        "print (bintang)\n",
        "i += 1"
      ],
      "metadata": {
        "id": "l1j_G3I3MSMQ"
      },
      "execution_count": null,
      "outputs": []
    },
    {
      "cell_type": "code",
      "source": [
        "i = 1\n",
        "while(i <= 10) :\n",
        "    bintang = \"\"\n",
        "j = 10\n",
        "k = 4\n",
        "while (j >= i) :\n",
        "    bintang += \" \"\n",
        "j -= 1\n",
        "while (k <= 1) :\n",
        "    bintang += \"*_\"\n",
        "k += 1\n",
        "bintang += \"*\"\n",
        "print (bintang)\n",
        "i += 1"
      ],
      "metadata": {
        "id": "PHq8vbOxPBOw"
      },
      "execution_count": null,
      "outputs": []
    },
    {
      "cell_type": "code",
      "execution_count": null,
      "metadata": {
        "colab": {
          "base_uri": "https://localhost:8080/"
        },
        "id": "ADFVw7bhbMI1",
        "outputId": "d86855c9-0195-47c9-81ee-4db3aa49f252"
      },
      "outputs": [
        {
          "name": "stdout",
          "output_type": "stream",
          "text": [
            "-3\n",
            "-2\n",
            "-1\n",
            "0\n",
            "1\n",
            "2\n",
            "3\n",
            "4\n"
          ]
        }
      ],
      "source": [
        "for i in range(-3,5):\n",
        "  print(i)\n"
      ]
    },
    {
      "cell_type": "code",
      "execution_count": null,
      "metadata": {
        "colab": {
          "base_uri": "https://localhost:8080/"
        },
        "id": "4fbNj6_7biom",
        "outputId": "a7180116-39c2-41b0-c400-77e00e35e8d1"
      },
      "outputs": [
        {
          "name": "stdout",
          "output_type": "stream",
          "text": [
            "2001\n",
            "2002\n",
            "2003\n"
          ]
        }
      ],
      "source": [
        "for year in dates:\n",
        "  print(year)"
      ]
    },
    {
      "cell_type": "code",
      "execution_count": null,
      "metadata": {
        "colab": {
          "base_uri": "https://localhost:8080/"
        },
        "id": "zlXEC5a4dKVO",
        "outputId": "d0e697bf-210a-41d0-8aeb-c231e7af0416"
      },
      "outputs": [
        {
          "output_type": "stream",
          "name": "stdout",
          "text": [
            "cetak pola segitiga bintang\n",
            "Masukkan jumlah baris: 6\n",
            "     * \n",
            "    * * \n",
            "   * * * \n",
            "  * * * * \n",
            " * * * * * \n",
            "* * * * * * \n"
          ]
        }
      ],
      "source": [
        "#Weekly Exercise 1\n",
        "\n",
        "print(\"cetak pola segitiga bintang\")\n",
        "N = int(input(\"Masukkan jumlah baris: \"))\n",
        "\n",
        "for i in range(N):\n",
        "  print(' ' * (N - i - 1) + '* ' * (i + 1))"
      ]
    },
    {
      "cell_type": "code",
      "source": [
        "N = int(input('jumlah baris segitiga pascal = '))\n",
        "\n",
        "for i in range(1, N + 1):\n",
        "\n",
        "    for j in range(0, N - i + 1):\n",
        "      print(\" \", end=\"\")\n",
        "    a = 1\n",
        "    for j in range(1, i+1):\n",
        "      print(' ', a, sep='', end='')\n",
        "    a = a * (i - j) // j\n",
        "    print()"
      ],
      "metadata": {
        "colab": {
          "base_uri": "https://localhost:8080/"
        },
        "id": "DgetQILVy-nT",
        "outputId": "87c7cbc7-c82d-41b5-e58a-940e84a85531"
      },
      "execution_count": null,
      "outputs": [
        {
          "output_type": "stream",
          "name": "stdout",
          "text": [
            "jumlah baris segitiga pascal = 6\n",
            "       1\n",
            "      1 1\n",
            "     1 1 1\n",
            "    1 1 1 1\n",
            "   1 1 1 1 1\n",
            "  1 1 1 1 1 1\n"
          ]
        }
      ]
    },
    {
      "cell_type": "code",
      "source": [
        "#Weekly Exercise 2\n",
        "\n",
        "N = int(input('Masukkan jumlah baris= '))\n",
        "for i in range(N):\n",
        "  print(' ' * (N - i - 1), end=' ')\n",
        "  a = 1\n",
        "  for j in range(i + 1):\n",
        "    print(a, end=' ')\n",
        "    a = a * (i - j) // (j + 1)\n",
        "  print()"
      ],
      "metadata": {
        "id": "uBcYv-AY6yPr"
      },
      "execution_count": null,
      "outputs": []
    },
    {
      "cell_type": "code",
      "source": [
        "#Weekly Exercise 3\n",
        "\n",
        "N = int(input(\"Baris ke = \"))\n",
        "N = N - 1\n",
        "a = 1\n",
        "jumlah = 0\n",
        "\n",
        "for j in range(N + 1):\n",
        "    print(a, end=\" \")\n",
        "    jumlah += a\n",
        "    a = a * (N - j) // (j + 1)\n",
        "print(f\"\\nhasil jumlah angka di baris ke\", N + 1, \"adalah\", jumlah)"
      ],
      "metadata": {
        "colab": {
          "base_uri": "https://localhost:8080/"
        },
        "id": "wORev8IjAnoR",
        "outputId": "4e528bc8-43cb-4370-aa94-f24c4660f517"
      },
      "execution_count": null,
      "outputs": [
        {
          "output_type": "stream",
          "name": "stdout",
          "text": [
            "Baris ke = 4\n",
            "1 3 3 1 \n",
            "hasil jumlah angka di baris ke 4 adalah 8\n"
          ]
        }
      ]
    }
  ],
  "metadata": {
    "colab": {
      "provenance": [],
      "authorship_tag": "ABX9TyPCv/UGhOgLefFHnFTFUO8m",
      "include_colab_link": true
    },
    "kernelspec": {
      "display_name": "Python 3",
      "name": "python3"
    },
    "language_info": {
      "name": "python"
    }
  },
  "nbformat": 4,
  "nbformat_minor": 0
}