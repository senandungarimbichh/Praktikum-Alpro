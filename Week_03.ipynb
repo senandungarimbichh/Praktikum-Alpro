{
  "nbformat": 4,
  "nbformat_minor": 0,
  "metadata": {
    "colab": {
      "provenance": [],
      "mount_file_id": "1XANmBHbbSZrB2jSMNE3_Npf2i_j8mWMg",
      "authorship_tag": "ABX9TyNWAcZ9guCngXqoIrkEmmuM",
      "include_colab_link": true
    },
    "kernelspec": {
      "name": "python3",
      "display_name": "Python 3"
    },
    "language_info": {
      "name": "python"
    }
  },
  "cells": [
    {
      "cell_type": "markdown",
      "metadata": {
        "id": "view-in-github",
        "colab_type": "text"
      },
      "source": [
        "<a href=\"https://colab.research.google.com/github/senandungarimbichh/Praktikum-Alpro/blob/main/Week_03.ipynb\" target=\"_parent\"><img src=\"https://colab.research.google.com/assets/colab-badge.svg\" alt=\"Open In Colab\"/></a>"
      ]
    },
    {
      "cell_type": "code",
      "source": [
        "with open(\"/Week03.txt\", \"r\") as bio:\n",
        "     print(bio.read())"
      ],
      "metadata": {
        "colab": {
          "base_uri": "https://localhost:8080/"
        },
        "id": "_bG4meiTh5w2",
        "outputId": "7dffe7ef-60dc-4ebc-e2d6-9ea27c5eacd1"
      },
      "execution_count": null,
      "outputs": [
        {
          "output_type": "stream",
          "name": "stdout",
          "text": [
            "Nama \t\t: Senandung Marimby Zahira Malika\n",
            "Program Studi \t: Teknologi Informasi\n",
            "NPM \t\t: 2430506050\n",
            "Alamat \t\t: Jl. Dumpoh Raya\n",
            "Hobi \t\t: Menyanyi \n",
            "Email \t\t: senandungmarimby95@gmail.com\n"
          ]
        }
      ]
    },
    {
      "cell_type": "code",
      "execution_count": null,
      "metadata": {
        "colab": {
          "base_uri": "https://localhost:8080/"
        },
        "id": "n5NTBgXbPJfZ",
        "outputId": "5a39bbbb-4f02-4ae7-9036-2eefa4391bba"
      },
      "outputs": [
        {
          "output_type": "stream",
          "name": "stdout",
          "text": [
            "Selamat datang di Toko Maju Jaya\n",
            "Senin, 4 September 2023 13.05\n",
            " \n",
            "DAFTAR BELANJA:\n",
            "\n",
            "item_1, Sabun          = Rp.10000\n",
            "item_2, Shampo         = Rp.15000\n",
            "item_3, Mie instan     = Rp.5000\n",
            "item_4, Detergen       = Rp.17500\n",
            "\n",
            "total = Rp  47500\n"
          ]
        }
      ],
      "source": [
        "print(\"Selamat datang di Toko Maju Jaya\")\n",
        "print(\"Senin, 4 September 2023 13.05\")\n",
        "print(\" \")\n",
        "\n",
        "harga_1 = 10000\n",
        "harga_2 = 15000\n",
        "harga_3 = 5000\n",
        "harga_4 = 17500\n",
        "\n",
        "print(\"DAFTAR BELANJA:\")\n",
        "item_1 = \"Sabun\"\n",
        "item_2 = \"Shampo\"\n",
        "item_3 = \"Mie instant\"\n",
        "item_4 = \"Detergen\"\n",
        "harga1 =  10000\n",
        "harga2 = 15000\n",
        "harga3 =  5000\n",
        "harga4 = 17500\n",
        "\n",
        "Total_harga = harga1 + harga2 + harga3 + harga4\n",
        "\n",
        "print(\"\")\n",
        "print(\"item_1, Sabun          = Rp.10000\")\n",
        "print(\"item_2, Shampo         = Rp.15000\")\n",
        "print(\"item_3, Mie instan     = Rp.5000\")\n",
        "print(\"item_4, Detergen       = Rp.17500\")\n",
        "print(\"\")\n",
        "\n",
        "print(\"total = Rp \" , Total_harga)\n",
        "\n",
        "with open('kuitansi.txt', 'w') as  writefile:\n",
        "  writefile.write(\"Selamat Datang diToko Maju Jaya\\n\")\n",
        "  writefile.write(\" \\n\")\n",
        "  writefile.write(\"kuitansi - 4 September 2023\\n\")\n",
        "  writefile.write(\" \\n\")\n",
        "  writefile.write(item_1 + ' = Rp' + str(harga1) + \"\\n\")\n",
        "  writefile.write(item_2 + ' = Rp' + str(harga2) + \"\\n\")\n",
        "  writefile.write(item_3 + ' = Rp' + str(harga3) + \"\\n\")\n",
        "  writefile.write(item_4 + ' = Rp' + str(harga4) + \"\\n\")\n",
        "  writefile.write(\"Total harga =\" + str(Total_harga))\n"
      ]
    },
    {
      "cell_type": "code",
      "source": [
        "print(\"Fakultas Teknik\" , \"Teknologi Informasi\" , \"Praktikum Rombel 2\" , sep=' > ')"
      ],
      "metadata": {
        "id": "2OjsA_dfjCUH",
        "colab": {
          "base_uri": "https://localhost:8080/"
        },
        "outputId": "0c063935-a382-43fa-c776-c0e92077b09b"
      },
      "execution_count": null,
      "outputs": [
        {
          "output_type": "stream",
          "name": "stdout",
          "text": [
            "Fakultas Teknik > Teknologi Informasi > Praktikum Rombel 2\n"
          ]
        }
      ]
    },
    {
      "cell_type": "code",
      "source": [
        "print(\"Baris pertama\\n Baris kedua\\n\")"
      ],
      "metadata": {
        "colab": {
          "base_uri": "https://localhost:8080/"
        },
        "id": "jkXD-D3A_vrX",
        "outputId": "a0822baa-a66e-4466-b472-f5014f58837d"
      },
      "execution_count": null,
      "outputs": [
        {
          "output_type": "stream",
          "name": "stdout",
          "text": [
            "Baris pertama\n",
            " Baris kedua\n",
            "\n"
          ]
        }
      ]
    },
    {
      "cell_type": "code",
      "source": [
        "print(\"Nama : Senandung\")\n",
        "print(\"\\tNama : Senandung\")"
      ],
      "metadata": {
        "colab": {
          "base_uri": "https://localhost:8080/"
        },
        "id": "E-84Nz3LA-O1",
        "outputId": "f049c7eb-dd86-4a2d-ff30-9a63d02f329f"
      },
      "execution_count": null,
      "outputs": [
        {
          "output_type": "stream",
          "name": "stdout",
          "text": [
            "Nama : Senandung\n",
            "\tNama : Senandung\n"
          ]
        }
      ]
    },
    {
      "cell_type": "code",
      "source": [],
      "metadata": {
        "id": "irLWgM5TCHsD"
      },
      "execution_count": null,
      "outputs": []
    }
  ]
}