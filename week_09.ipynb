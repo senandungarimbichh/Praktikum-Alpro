{
  "nbformat": 4,
  "nbformat_minor": 0,
  "metadata": {
    "colab": {
      "provenance": [],
      "authorship_tag": "ABX9TyPrpX2+gC+YG8U7I97JjDxc",
      "include_colab_link": true
    },
    "kernelspec": {
      "name": "python3",
      "display_name": "Python 3"
    },
    "language_info": {
      "name": "python"
    }
  },
  "cells": [
    {
      "cell_type": "markdown",
      "metadata": {
        "id": "view-in-github",
        "colab_type": "text"
      },
      "source": [
        "<a href=\"https://colab.research.google.com/github/senandungarimbichh/Praktikum-Alpro/blob/main/week_09.ipynb\" target=\"_parent\"><img src=\"https://colab.research.google.com/assets/colab-badge.svg\" alt=\"Open In Colab\"/></a>"
      ]
    },
    {
      "cell_type": "code",
      "execution_count": null,
      "metadata": {
        "colab": {
          "base_uri": "https://localhost:8080/"
        },
        "id": "7NZraEcPjgjB",
        "outputId": "910c7722-636d-480c-855a-14ab9dd47b8a"
      },
      "outputs": [
        {
          "output_type": "stream",
          "name": "stdout",
          "text": [
            "['apple', 'banana', 'cherry']\n"
          ]
        }
      ],
      "source": [
        "#create a list\n",
        "thislist = [\"apple\", \"banana\", \"cherry\"]\n",
        "print(thislist)"
      ]
    },
    {
      "cell_type": "code",
      "source": [
        "#String, int and boolean data types:\n",
        "list1 = [\"apple\", \"banana\", \"cherry\"]\n",
        "list2 = [1, 5, 7, 9, 3]\n",
        "list3 = [True, False, False]\n",
        "print(list1)\n",
        "print(list2)\n",
        "print(list3)"
      ],
      "metadata": {
        "colab": {
          "base_uri": "https://localhost:8080/"
        },
        "id": "vDIeBN-NnaOK",
        "outputId": "21b75a86-3f97-4def-f6e6-6510d62709b2"
      },
      "execution_count": null,
      "outputs": [
        {
          "output_type": "stream",
          "name": "stdout",
          "text": [
            "['apple', 'banana', 'cherry']\n",
            "[1, 5, 7, 9, 3]\n",
            "[True, False, False]\n"
          ]
        }
      ]
    },
    {
      "cell_type": "code",
      "source": [
        "# Membuat data dengan tipe data dictionary\n",
        "data_mahasiswa = [\n",
        "    {\n",
        "    \"Nama\"          :\"Senandung Marimby Zahira Malika\",\n",
        "    \"Kelas\"         :\"Rombel 1\",\n",
        "    \"Tanggal Lahir\" :\"11 April 2006\",\n",
        "    \"No HP\"         :\"085701067886\",\n",
        "    \"Alamat\"        :\"Jl. Dumpoh Raya, Magelang\",\n",
        "    \"Hobi\"          :[\"Menyanyi\", \"Menonton Anime\", \"Olahraga\"]\n",
        "    },\n",
        "]\n",
        "\n",
        "# Menampilkan data Mahasiswa\n",
        "for mahasiswa in data_mahasiswa:\n",
        "    print(\"Nama         :\", mahasiswa[\"Nama\"])\n",
        "    print(\"Kelas        :\", mahasiswa[\"Kelas\"])\n",
        "    print(\"Tanggal Lahir:\", mahasiswa[\"Tanggal Lahir\"])\n",
        "    print(\"No HP        :\", mahasiswa[\"No HP\"])\n",
        "    print(\"Alamat       :\", mahasiswa[\"Alamat\"])\n",
        "    print(\"Hobi         :\")\n",
        "\n",
        "# Memberi urutan angka pada hobi sesuai jumlah hobi\n",
        "    no = 1\n",
        "    for hobi in mahasiswa[\"Hobi\"]:\n",
        "        print(f\"{no}. {hobi}\")\n",
        "        no += 1\n",
        "    print()\n",
        "\n",
        "# Menentukan tipe collection\n",
        "print(\"collection data types: \", type(data_mahasiswa))\n",
        "print(\"collection data types: \", type(mahasiswa))"
      ],
      "metadata": {
        "id": "m2mSoI2nx1FM",
        "colab": {
          "base_uri": "https://localhost:8080/"
        },
        "outputId": "14c6302e-2b86-4f23-c60f-280133032f41"
      },
      "execution_count": null,
      "outputs": [
        {
          "output_type": "stream",
          "name": "stdout",
          "text": [
            "Nama         : Senandung Marimby Zahira Malika\n",
            "Kelas        : Rombel 1\n",
            "Tanggal Lahir: 11 April 2006\n",
            "No HP        : 085701067886\n",
            "Alamat       : Jl. Dumpoh Raya, Magelang\n",
            "Hobi         :\n",
            "1. Menyanyi\n",
            "2. Menonton Anime\n",
            "3. Olahraga\n",
            "\n",
            "collection data types:  <class 'list'>\n",
            "collection data types:  <class 'dict'>\n"
          ]
        }
      ]
    }
  ]
}