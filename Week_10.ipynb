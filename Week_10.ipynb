{
  "nbformat": 4,
  "nbformat_minor": 0,
  "metadata": {
    "colab": {
      "provenance": [],
      "authorship_tag": "ABX9TyN1ZGfuAR0V9X/SuOu051+F",
      "include_colab_link": true
    },
    "kernelspec": {
      "name": "python3",
      "display_name": "Python 3"
    },
    "language_info": {
      "name": "python"
    }
  },
  "cells": [
    {
      "cell_type": "markdown",
      "metadata": {
        "id": "view-in-github",
        "colab_type": "text"
      },
      "source": [
        "<a href=\"https://colab.research.google.com/github/senandungarimbichh/Praktikum-Alpro/blob/main/Week_10.ipynb\" target=\"_parent\"><img src=\"https://colab.research.google.com/assets/colab-badge.svg\" alt=\"Open In Colab\"/></a>"
      ]
    },
    {
      "cell_type": "code",
      "source": [
        "def my_function():\n",
        "  print(\"Hello BRUT\")\n",
        "my_function()"
      ],
      "metadata": {
        "colab": {
          "base_uri": "https://localhost:8080/"
        },
        "id": "-hwANOjVqcgQ",
        "outputId": "355447f3-6c87-4af9-fac1-e470fc34de09"
      },
      "execution_count": null,
      "outputs": [
        {
          "output_type": "stream",
          "name": "stdout",
          "text": [
            "Hello BRUT\n"
          ]
        }
      ]
    },
    {
      "cell_type": "code",
      "source": [
        "def my_function(fname):\n",
        "  print(fname + \" BRUT\")\n",
        "\n",
        "my_function(\"Brama\")\n",
        "my_function(\"Ragil\")\n",
        "my_function(\"Utomo\")"
      ],
      "metadata": {
        "colab": {
          "base_uri": "https://localhost:8080/"
        },
        "id": "gYNQgTuBqruR",
        "outputId": "21c7ee94-6c50-4fa0-ed74-41c77d0c7e3c"
      },
      "execution_count": null,
      "outputs": [
        {
          "output_type": "stream",
          "name": "stdout",
          "text": [
            "Brama BRUT\n",
            "Ragil BRUT\n",
            "Utomo BRUT\n"
          ]
        }
      ]
    },
    {
      "cell_type": "code",
      "source": [
        "def my_function(fname, lname):\n",
        "  print(fname + \" \" + lname)\n",
        "\n",
        "my_function(\"Brama\", \"Ragil\")"
      ],
      "metadata": {
        "colab": {
          "base_uri": "https://localhost:8080/"
        },
        "id": "mMA_grOKryCf",
        "outputId": "22f19557-9112-4349-c796-013a168e766a"
      },
      "execution_count": null,
      "outputs": [
        {
          "output_type": "stream",
          "name": "stdout",
          "text": [
            "Brama Ragil\n"
          ]
        }
      ]
    },
    {
      "cell_type": "code",
      "execution_count": null,
      "metadata": {
        "id": "0YLk8HNeoDg_",
        "colab": {
          "base_uri": "https://localhost:8080/"
        },
        "outputId": "a7d1cc9f-21ee-41fc-f3eb-fbda257588fd"
      },
      "outputs": [
        {
          "output_type": "stream",
          "name": "stdout",
          "text": [
            "Anak termuda adalah Utomo\n"
          ]
        }
      ],
      "source": [
        "def my_function(*kids):\n",
        "  print(\"Anak termuda adalah \" + kids[2])\n",
        "\n",
        "my_function(\"Brama\", \"Ragil\", \"Utomo\")"
      ]
    },
    {
      "cell_type": "code",
      "execution_count": null,
      "metadata": {
        "id": "YlfVxMrWpK3x",
        "colab": {
          "base_uri": "https://localhost:8080/"
        },
        "outputId": "d2402654-58e7-41ba-b313-44d03790960d"
      },
      "outputs": [
        {
          "output_type": "stream",
          "name": "stdout",
          "text": [
            "Masukkan angka:8\n",
            "Faktorial dari 8 adalah 40320\n"
          ]
        }
      ],
      "source": [
        "def faktorial(n):\n",
        "  if n == 0 or n == 1:\n",
        "        return 1\n",
        "  else:\n",
        "        return n * faktorial(n - 1)\n",
        "\n",
        "angka = int(input(\"Masukkan angka:\"))\n",
        "hasil = faktorial(angka)\n",
        "print(f\"Faktorial dari {angka} adalah {hasil}\")"
      ]
    },
    {
      "cell_type": "code",
      "source": [
        "def luas_lingkaran(r):\n",
        "  return 3.14 * r**2\n",
        "\n",
        "def luas_persegi(sisi):\n",
        "  return sisi**2\n",
        "\n",
        "def luas_segitiga(a, t):\n",
        "  return 0.5 * a * t\n",
        "\n",
        "def hasil():\n",
        "  print(\"\\nPilih perhitungan:\")\n",
        "  print(\"1. Luas Lingkaran\")\n",
        "  print(\"2. Luas Persegi\")\n",
        "  print(\"3. Luas Segitiga\")\n",
        "  print(\"4. Selesai\")\n",
        "\n",
        "  pilihan = input(\"Masukkan pilihan (1/2/3/4): \")\n",
        "  if pilihan == '1':\n",
        "    r = float(input(\"jari-jari lingkaran: \"))\n",
        "    luas = luas_lingkaran(r)\n",
        "    print(f\"Luas lingkaran: {luas}\")\n",
        "  elif pilihan == '2':\n",
        "    sisi = float(input(\"panjang sisi persegi: \"))\n",
        "    luas = luas_persegi(sisi)\n",
        "    print(f\"Luas persegi: {luas}\")\n",
        "  elif pilihan == '3':\n",
        "    a = float(input(\"panjang alas segitiga: \"))\n",
        "    t = float(input(\"tinggi segitiga: \"))\n",
        "    luas = luas_segitiga(a, t)\n",
        "    print(f\"Luas segitiga: {luas}\")\n",
        "  elif pilihan == '4':\n",
        "    print(\"Program selesai.\")\n",
        "    return 0\n",
        "  else:\n",
        "    print(\"Pilihan tidak valid. Silakan coba lagi dengan memasukkan angka 1, 2, 3, atau 4.\")\n",
        "  hasil()\n",
        "hasil()"
      ],
      "metadata": {
        "colab": {
          "base_uri": "https://localhost:8080/"
        },
        "id": "aPWxmf6g_q9x",
        "outputId": "14ffb014-2cff-4320-a15e-c5e0e8471744"
      },
      "execution_count": null,
      "outputs": [
        {
          "output_type": "stream",
          "name": "stdout",
          "text": [
            "\n",
            "Pilih perhitungan:\n",
            "1. Luas Lingkaran\n",
            "2. Luas Persegi\n",
            "3. Luas Segitiga\n",
            "4. Selesai\n",
            "Masukkan pilihan (1/2/3/4): 1\n",
            "jari-jari lingkaran: 6\n",
            "Luas lingkaran: 113.04\n",
            "\n",
            "Pilih perhitungan:\n",
            "1. Luas Lingkaran\n",
            "2. Luas Persegi\n",
            "3. Luas Segitiga\n",
            "4. Selesai\n",
            "Masukkan pilihan (1/2/3/4): 2\n",
            "panjang sisi persegi: 6\n",
            "Luas persegi: 36.0\n",
            "\n",
            "Pilih perhitungan:\n",
            "1. Luas Lingkaran\n",
            "2. Luas Persegi\n",
            "3. Luas Segitiga\n",
            "4. Selesai\n",
            "Masukkan pilihan (1/2/3/4): 3\n",
            "panjang alas segitiga: 6\n",
            "tinggi segitiga: 3\n",
            "Luas segitiga: 9.0\n",
            "\n",
            "Pilih perhitungan:\n",
            "1. Luas Lingkaran\n",
            "2. Luas Persegi\n",
            "3. Luas Segitiga\n",
            "4. Selesai\n",
            "Masukkan pilihan (1/2/3/4): 4\n",
            "Program selesai.\n"
          ]
        }
      ]
    }
  ]
}