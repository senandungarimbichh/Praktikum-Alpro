{
  "cells": [
    {
      "cell_type": "markdown",
      "metadata": {
        "id": "view-in-github",
        "colab_type": "text"
      },
      "source": [
        "<a href=\"https://colab.research.google.com/github/senandungarimbichh/Praktikum-Alpro/blob/main/Week_02.ipynb\" target=\"_parent\"><img src=\"https://colab.research.google.com/assets/colab-badge.svg\" alt=\"Open In Colab\"/></a>"
      ]
    },
    {
      "cell_type": "code",
      "execution_count": null,
      "metadata": {
        "colab": {
          "base_uri": "https://localhost:8080/"
        },
        "id": "tFF_tcNHl-U-",
        "outputId": "3d9906e3-6f3c-4bc4-fadb-2343c0d67431"
      },
      "outputs": [
        {
          "data": {
            "text/plain": [
              "11"
            ]
          },
          "execution_count": 2,
          "metadata": {},
          "output_type": "execute_result"
        }
      ],
      "source": [
        "  # Integer\n",
        "11"
      ]
    },
    {
      "cell_type": "code",
      "execution_count": null,
      "metadata": {
        "colab": {
          "base_uri": "https://localhost:8080/"
        },
        "id": "oYBuk4UwofcX",
        "outputId": "1f891490-ffc5-464c-9cf7-1275254e0c4e"
      },
      "outputs": [
        {
          "data": {
            "text/plain": [
              "2.14"
            ]
          },
          "execution_count": 4,
          "metadata": {},
          "output_type": "execute_result"
        }
      ],
      "source": [
        "# Float\n",
        "2.14"
      ]
    },
    {
      "cell_type": "code",
      "execution_count": null,
      "metadata": {
        "colab": {
          "base_uri": "https://localhost:8080/",
          "height": 35
        },
        "id": "aLG3EIyOor8H",
        "outputId": "625d740e-fdad-4d66-e106-c176455bb4ec"
      },
      "outputs": [
        {
          "data": {
            "application/vnd.google.colaboratory.intrinsic+json": {
              "type": "string"
            },
            "text/plain": [
              "'Hello, guyss!'"
            ]
          },
          "execution_count": 6,
          "metadata": {},
          "output_type": "execute_result"
        }
      ],
      "source": [
        "# string\n",
        "\n",
        "#print(\"Hello, guyss!\")\n",
        "#print(\"Hello, guyss\")\n",
        "\n",
        "\"Hello, guyss!\"\n",
        "#\"Hello, guyss!\""
      ]
    },
    {
      "cell_type": "code",
      "execution_count": null,
      "metadata": {
        "colab": {
          "base_uri": "https://localhost:8080/"
        },
        "id": "F9uOLON0pN7H",
        "outputId": "350ae08b-d5d3-454a-ae65-de8a1021d6b2"
      },
      "outputs": [
        {
          "data": {
            "text/plain": [
              "int"
            ]
          },
          "execution_count": 7,
          "metadata": {},
          "output_type": "execute_result"
        }
      ],
      "source": [
        "# Type of 12\n",
        "type(12)"
      ]
    },
    {
      "cell_type": "code",
      "execution_count": null,
      "metadata": {
        "colab": {
          "base_uri": "https://localhost:8080/"
        },
        "id": "WZFxJYOcqH5K",
        "outputId": "6147458d-69e6-40f8-e7ca-043766ba0aaa"
      },
      "outputs": [
        {
          "data": {
            "text/plain": [
              "float"
            ]
          },
          "execution_count": 8,
          "metadata": {},
          "output_type": "execute_result"
        }
      ],
      "source": [
        "# Type of 2.14\n",
        "type(2.14)"
      ]
    },
    {
      "cell_type": "code",
      "execution_count": null,
      "metadata": {
        "colab": {
          "base_uri": "https://localhost:8080/"
        },
        "id": "e24-PNLPuw4d",
        "outputId": "10f58513-34d2-43b5-addc-4c362a9c7a6a"
      },
      "outputs": [
        {
          "data": {
            "text/plain": [
              "str"
            ]
          },
          "execution_count": 9,
          "metadata": {},
          "output_type": "execute_result"
        }
      ],
      "source": [
        "# Type of \"Hello, guyss!\"\n",
        "type(\"Hello, guyss!\")"
      ]
    },
    {
      "cell_type": "code",
      "execution_count": null,
      "metadata": {
        "colab": {
          "base_uri": "https://localhost:8080/"
        },
        "id": "wbCzZM_AvM_C",
        "outputId": "e581439b-ec08-41c5-f9a2-ba543f7c611c"
      },
      "outputs": [
        {
          "data": {
            "text/plain": [
              "float"
            ]
          },
          "execution_count": 10,
          "metadata": {},
          "output_type": "execute_result"
        }
      ],
      "source": [
        "# Write your code below. Don't forget to press Shift+Enter to execute the cell\n",
        "type(12.0)"
      ]
    },
    {
      "cell_type": "code",
      "execution_count": null,
      "metadata": {
        "colab": {
          "base_uri": "https://localhost:8080/"
        },
        "id": "ov3RgGkNvtxn",
        "outputId": "bb9fa7b8-4086-4364-b9bb-dd64c3ccb559"
      },
      "outputs": [
        {
          "data": {
            "text/plain": [
              "int"
            ]
          },
          "execution_count": 11,
          "metadata": {},
          "output_type": "execute_result"
        }
      ],
      "source": [
        "# Print the type of -1\n",
        "type(-1)"
      ]
    },
    {
      "cell_type": "code",
      "execution_count": null,
      "metadata": {
        "colab": {
          "base_uri": "https://localhost:8080/"
        },
        "id": "Lexb9SXrwaSn",
        "outputId": "041991ea-c406-45b6-8892-163fd302d652"
      },
      "outputs": [
        {
          "data": {
            "text/plain": [
              "int"
            ]
          },
          "execution_count": 12,
          "metadata": {},
          "output_type": "execute_result"
        }
      ],
      "source": [
        "type (-6)"
      ]
    },
    {
      "cell_type": "code",
      "execution_count": null,
      "metadata": {
        "colab": {
          "base_uri": "https://localhost:8080/"
        },
        "id": "jmh_4AH5weTe",
        "outputId": "334d845a-e1aa-49b2-e9a7-a8cb2b3f73b0"
      },
      "outputs": [
        {
          "data": {
            "text/plain": [
              "int"
            ]
          },
          "execution_count": 13,
          "metadata": {},
          "output_type": "execute_result"
        }
      ],
      "source": [
        "# Print the type of 4\n",
        "type(4)"
      ]
    },
    {
      "cell_type": "code",
      "execution_count": null,
      "metadata": {
        "colab": {
          "base_uri": "https://localhost:8080/"
        },
        "id": "jcDrPEJ7wmqN",
        "outputId": "19e08d0f-40b4-43b9-ce22-5255857f89de"
      },
      "outputs": [
        {
          "data": {
            "text/plain": [
              "int"
            ]
          },
          "execution_count": 14,
          "metadata": {},
          "output_type": "execute_result"
        }
      ],
      "source": [
        "# Print the type of 0\n",
        "type (0)"
      ]
    },
    {
      "cell_type": "code",
      "execution_count": null,
      "metadata": {
        "colab": {
          "base_uri": "https://localhost:8080/"
        },
        "id": "1LU9LxbrwsY7",
        "outputId": "c88adfe2-16b4-446b-ca91-c02f1e173c03"
      },
      "outputs": [
        {
          "data": {
            "text/plain": [
              "int"
            ]
          },
          "execution_count": 15,
          "metadata": {},
          "output_type": "execute_result"
        }
      ],
      "source": [
        "# Print the type of 0\n",
        "type(0)"
      ]
    },
    {
      "cell_type": "code",
      "execution_count": null,
      "metadata": {
        "colab": {
          "base_uri": "https://localhost:8080/"
        },
        "id": "fvdDFZAdwx-k",
        "outputId": "6bde29ad-6b41-4006-9ccc-5c72d19f118e"
      },
      "outputs": [
        {
          "data": {
            "text/plain": [
              "float"
            ]
          },
          "execution_count": 16,
          "metadata": {},
          "output_type": "execute_result"
        }
      ],
      "source": [
        "# Print the type of 1.0\n",
        "type(1.0) # Notice that 1 is an int, and 1.0 is a float"
      ]
    },
    {
      "cell_type": "code",
      "execution_count": null,
      "metadata": {
        "colab": {
          "base_uri": "https://localhost:8080/"
        },
        "id": "1QVd1zNkxUIb",
        "outputId": "425d4a19-98d7-455e-844d-2df69732ecbf"
      },
      "outputs": [
        {
          "output_type": "execute_result",
          "data": {
            "text/plain": [
              "float"
            ]
          },
          "metadata": {},
          "execution_count": 24
        }
      ],
      "source": [
        "# Print the type of 0.5\n",
        "type(0.5)"
      ]
    },
    {
      "cell_type": "code",
      "execution_count": null,
      "metadata": {
        "colab": {
          "base_uri": "https://localhost:8080/"
        },
        "id": "8vRBuLE5xgy5",
        "outputId": "023f4f67-755c-434b-9906-765b591f43e9"
      },
      "outputs": [
        {
          "output_type": "execute_result",
          "data": {
            "text/plain": [
              "type"
            ]
          },
          "metadata": {},
          "execution_count": 25
        }
      ],
      "source": [
        "# Print the type of 0.56\n",
        "type"
      ]
    },
    {
      "cell_type": "code",
      "source": [
        "# WEEKLY EXERCISE 1\n",
        "# Menghitung keliling, luas, dan volume\n",
        "panjang = 20.5\n",
        "lebar = 25\n",
        "tinggi = 10\n",
        "\n",
        "keliling = 2 * (panjang + lebar)\n",
        "luas = panjang * lebar\n",
        "volume = panjang * lebar * tinggi\n",
        "\n",
        "print(\"Panjang = \" , panjang)\n",
        "print(\"Lebar = \" , lebar)\n",
        "print(\"Tinggi = \" , tinggi)\n",
        "print(\"Keliling =\" , keliling)\n",
        "print(\"Volume =\" , volume)"
      ],
      "metadata": {
        "colab": {
          "base_uri": "https://localhost:8080/"
        },
        "id": "fv9lmXFpvvUv",
        "outputId": "353db88a-953e-4e97-937c-a510563c1399"
      },
      "execution_count": null,
      "outputs": [
        {
          "output_type": "stream",
          "name": "stdout",
          "text": [
            "Panjang =  20.5\n",
            "Lebar =  25\n",
            "Tinggi =  10\n",
            "Keliling = 91.0\n",
            "Volume = 5125.0\n"
          ]
        }
      ]
    },
    {
      "cell_type": "code",
      "source": [
        "# data mahasiswa\n",
        "Nama =  {'Shafira': [85,75],\n",
        " 'Amanda': [80,90],\n",
        "  'Aditya': [75,80],\n",
        "  'Nedia': [95,80],\n",
        "  'Widya': [85,85],\n",
        "  'Hanif': [75,90],\n",
        "  'Andi': [70,75],\n",
        "  'Dhanar': [85,85],\n",
        "  'Hikma': [80,75]\n",
        " }\n",
        "\n",
        "# 1. Rata-rata nilai Shafira pada kedua mata kuliah\n",
        "Nilai_Rata_rata_Shafira = ((85 + 75)/2)\n",
        "print(Nilai_Rata_rata_Shafira)\n",
        "\n",
        "# 2. Jumlah nilai Hanif dan Andi untuk semua mata kuliah\n",
        "Jumlah_nilai_Hanif_dan_Andi = ((75 + 90 + 70 + 75))\n",
        "print(Jumlah_nilai_Hanif_dan_Andi)\n",
        "\n",
        "# 3. Rata_rata nilai Widya, Dhanar, Hikma dan Nedia pada masing_masing mata kuliah\n",
        "Nilai_Ratarata_Widya = ((85 + 85)/2)\n",
        "Nilai_Ratarata_Dhanar = ((85 + 85)/2)\n",
        "Nilai_Ratarata_Hikma = ((80 + 75)/2)\n",
        "Nilai_Ratarata_Nedia = ((95 + 80)/2)\n",
        "\n",
        "print(Nilai_Ratarata_Widya)\n",
        "print(Nilai_Ratarata_Dhanar)\n",
        "print(Nilai_Ratarata_Hikma)\n",
        "print(Nilai_Ratarata_Nedia)\n",
        "\n",
        "# 4. Rata-rata nilai mata kuliah Kalkulus 1 untuk semua mahasiswa\n",
        "Nilai_Ratarata_Kalkulus1_semuamahasiswa = ((85 + 80 + 75 + 95 + 85 + 75 + 70 + 85 + 80)/9)\n",
        "print(Nilai_Ratarata_Kalkulus1_semuamahasiswa)\n",
        "\n",
        "# 5. Rata-rata nilai mata kuliah metode Statistika untuk semua mahasiswa\n",
        "Nilai_Ratarata_Statistika_semuamahasiswa = ((75 + 90 + 80 + 80 + 85 + 90 + 75 + 85 + 75)/9)\n",
        "print(Nilai_Ratarata_Statistika_semuamahasiswa)"
      ],
      "metadata": {
        "colab": {
          "base_uri": "https://localhost:8080/"
        },
        "id": "E-N7y8L83rPB",
        "outputId": "250e3f0f-92ca-453c-d17c-b0723538e9d7"
      },
      "execution_count": null,
      "outputs": [
        {
          "output_type": "stream",
          "name": "stdout",
          "text": [
            "80.0\n",
            "310\n",
            "85.0\n",
            "85.0\n",
            "77.5\n",
            "87.5\n",
            "81.11111111111111\n",
            "81.66666666666667\n"
          ]
        }
      ]
    },
    {
      "cell_type": "code",
      "source": [
        "# Gaji pokok perjam\n",
        "gaji_perjam = 30000\n",
        "\n",
        "# Jam kerja perhari\n",
        "jam_kerja_perhari = 8\n",
        "\n",
        "# Jumlah hari kerja bulan Agustus (22 hari) weekend libur\n",
        "hari_kerja_sebulan = 22\n",
        "\n",
        "# Hari izin Dwi di bulan Agustus\n",
        "hari_izin_Dwi = 3 # tidak masuk kerja 3 hari dalam sebulan\n",
        "\n",
        "# Tunjangan karyawan yang bekerja lebih dari 5 tahun\n",
        "tunjangan_karyawan_5tahun = 0.10 #10%\n",
        "\n",
        "# Gaji lembur perjam\n",
        "gaji_lembur_perjam = 10000\n",
        "\n",
        "# lembur Agustus\n",
        "lembur_agustus = 5\n",
        "\n",
        "gaji_Dwi_perhari = jam_kerja_perhari * gaji_perjam\n",
        "gaji_awal_Dwi_Agustus = gaji_Dwi_perhari * hari_kerja_sebulan\n",
        "gaji_akhir_Dwi_Agustus = gaji_awal_Dwi_Agustus - (hari_izin_Dwi * gaji_Dwi_perhari)\n",
        "tunjangan_Dwi =gaji_akhir_Dwi_Agustus * tunjangan_karyawan_5tahun\n",
        "uang_lembur = lembur_agustus * gaji_lembur_perjam\n",
        "total_gaji_Dwi = tunjangan_Dwi + uang_lembur + gaji_akhir_Dwi_Agustus\n",
        "\n",
        "print(\"Gaji jika tidak masuk 3 hari : Rp\" , gaji_akhir_Dwi_Agustus)\n",
        "print(\"Jumlah tunjangan yang diterima Dwi : Rp\" , tunjangan_Dwi)\n",
        "print(\"Total gaji yang diterima Dwi bulan Agustus : Rp\" , total_gaji_Dwi)"
      ],
      "metadata": {
        "colab": {
          "base_uri": "https://localhost:8080/"
        },
        "id": "cRyLpkNNXjjH",
        "outputId": "1c61f836-172a-4b39-daba-19b3b84a7e5f"
      },
      "execution_count": null,
      "outputs": [
        {
          "output_type": "stream",
          "name": "stdout",
          "text": [
            "Gaji jika tidak masuk 3 hari : Rp 4560000\n",
            "Jumlah tunjangan yang diterima Dwi : Rp 456000.0\n",
            "Total gaji yang diterima Dwi bulan Agustus : Rp 5066000.0\n"
          ]
        }
      ]
    },
    {
      "cell_type": "code",
      "source": [],
      "metadata": {
        "id": "12B37tGRG8Xh"
      },
      "execution_count": null,
      "outputs": []
    }
  ],
  "metadata": {
    "colab": {
      "provenance": [],
      "authorship_tag": "ABX9TyMaUhoN5ciMzyXb/SvbsMpk",
      "include_colab_link": true
    },
    "kernelspec": {
      "display_name": "Python 3",
      "name": "python3"
    },
    "language_info": {
      "name": "python"
    }
  },
  "nbformat": 4,
  "nbformat_minor": 0
}