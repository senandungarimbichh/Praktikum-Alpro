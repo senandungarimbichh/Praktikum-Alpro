{
  "nbformat": 4,
  "nbformat_minor": 0,
  "metadata": {
    "colab": {
      "provenance": [],
      "authorship_tag": "ABX9TyOfk56QxiH1858TwGsYNYHk",
      "include_colab_link": true
    },
    "kernelspec": {
      "name": "python3",
      "display_name": "Python 3"
    },
    "language_info": {
      "name": "python"
    }
  },
  "cells": [
    {
      "cell_type": "markdown",
      "metadata": {
        "id": "view-in-github",
        "colab_type": "text"
      },
      "source": [
        "<a href=\"https://colab.research.google.com/github/senandungarimbichh/Praktikum-Alpro/blob/main/Week_05.ipynb\" target=\"_parent\"><img src=\"https://colab.research.google.com/assets/colab-badge.svg\" alt=\"Open In Colab\"/></a>"
      ]
    },
    {
      "cell_type": "code",
      "execution_count": null,
      "metadata": {
        "id": "XNQCh2JrWeBl",
        "colab": {
          "base_uri": "https://localhost:8080/"
        },
        "outputId": "00fe7de0-b047-4bbd-ccf5-fc598e06f5d0"
      },
      "outputs": [
        {
          "output_type": "stream",
          "name": "stdout",
          "text": [
            "The number is positive.\n"
          ]
        }
      ],
      "source": [
        "num = 5\n",
        "\n",
        "if num > 0:\n",
        "    print(\"The number is positive.\")\n",
        "else:\n",
        "    if num < 0:\n",
        "        print(\"The number is negative.\")\n",
        "    else:\n",
        "        print(\"The number is zero.\")\n"
      ]
    },
    {
      "cell_type": "code",
      "source": [
        "# Example 2 : Age classifier\n",
        "age = int(input('Age: '))\n",
        "\n",
        "if age >= 50:\n",
        "    print(\"You are a senior citizen.\")\n",
        "else:\n",
        "    if age >= 18:\n",
        "        print(\"You are an adult.\")\n",
        "    else:\n",
        "        print(\"You are a teenager.\")"
      ],
      "metadata": {
        "colab": {
          "base_uri": "https://localhost:8080/"
        },
        "id": "3zVkLY7_Z3dh",
        "outputId": "174d535d-e6ca-4a49-e57d-3598b3f2701e"
      },
      "execution_count": null,
      "outputs": [
        {
          "output_type": "stream",
          "name": "stdout",
          "text": [
            "Age: 25\n",
            "You are an adult.\n"
          ]
        }
      ]
    },
    {
      "cell_type": "code",
      "source": [
        "# Weekly Exercise 1\n",
        "tahun = int(input(\"Masukkan tahun: \"))\n",
        "\n",
        "if tahun % 4 == 0:\n",
        "    if tahun % 100 == 0:\n",
        "        if tahun % 400 == 0:\n",
        "            print(f\"Tahun {tahun} adalah tahun kabisat.\\n\")\n",
        "        else:\n",
        "            print(f\"Tahun {tahun} bukan tahun kabisat.\\n\")\n",
        "    else:\n",
        "        print(f\"Tahun {tahun} adalah tahun kabisat.\\n\")\n",
        "else:\n",
        "    print(f\"Tahun {tahun} bukan tahun kabisat.\\n\")"
      ],
      "metadata": {
        "colab": {
          "base_uri": "https://localhost:8080/"
        },
        "id": "y4IboH2Lanw_",
        "outputId": "b9c9aa36-c5fa-4ff0-f205-5aa796967a1b"
      },
      "execution_count": null,
      "outputs": [
        {
          "output_type": "stream",
          "name": "stdout",
          "text": [
            "Masukkan tahun: 1930\n",
            "Tahun 1930 bukan tahun kabisat.\n",
            "\n"
          ]
        }
      ]
    },
    {
      "cell_type": "code",
      "source": [
        "# Weekly Exercise 2\n",
        "angka1 = float(input(\"masukkan angka1: \"))\n",
        "angka2 = float(input(\"masukkan angka2: \"))\n",
        "angka3 = float(input(\"masukkan angka3: \"))\n",
        "\n",
        "if angka1 >= angka2 and angka1 >= angka3:\n",
        "  Largest = angka1\n",
        "elif angka2 >=  angka1 and angka2 >= angka3:\n",
        "  Largest = angka2\n",
        "else:\n",
        "  Largest = angka3\n",
        "print(f\"Angka terbesar adalah: {Largest}\\n\")"
      ],
      "metadata": {
        "colab": {
          "base_uri": "https://localhost:8080/"
        },
        "id": "JRN5RDfTgZzi",
        "outputId": "41f2c033-f674-47f4-cad3-de9bc89b82da"
      },
      "execution_count": null,
      "outputs": [
        {
          "output_type": "stream",
          "name": "stdout",
          "text": [
            "masukkan angka1: 27\n",
            "masukkan angka2: 3\n",
            "masukkan angka3: 15\n",
            "Angka terbesar adalah: 27.0\n",
            "\n"
          ]
        }
      ]
    },
    {
      "cell_type": "code",
      "source": [
        "# Weekly Exercise 3\n",
        "konsumen_tipe = input(\"Apakah anda member? (ya/tidak): \")\n",
        "total_pembelian = float(input(\"Masukkan total jumlah pembelian: \"))\n",
        "\n",
        "diskon_persentase = 0\n",
        "\n",
        "if total_pembelian > 100000:\n",
        "    diskon_persentase = 3\n",
        "    if total_pembelian > 200000:\n",
        "      diskon_persentase = 4\n",
        "\n",
        "if konsumen_tipe.lower() == \"ya\":\n",
        "        diskon_persentase += 2\n",
        "\n",
        "diskon_jumlah = (diskon_persentase / 100) * total_pembelian\n",
        "total_payment = total_pembelian - diskon_jumlah\n",
        "print(f\"Total Pembelian: Rp {total_pembelian:.2f}\")\n",
        "print(f\"Persentase Diskon: {diskon_persentase}%\")\n",
        "print(f\"Jumlah Diskon: Rp {diskon_jumlah:.2f}\")\n",
        "print(f\"Total Pembayaran: Rp {total_payment:.2f}\")"
      ],
      "metadata": {
        "id": "DfTb7WwkiP4H",
        "colab": {
          "base_uri": "https://localhost:8080/"
        },
        "outputId": "3ee9ef0a-2a40-4a24-b71c-9e5fb1b13fe8"
      },
      "execution_count": null,
      "outputs": [
        {
          "output_type": "stream",
          "name": "stdout",
          "text": [
            "Apakah anda member? (ya/tidak): ya\n",
            "Masukkan total jumlah pembelian: 160000\n",
            "Total Pembelian: Rp 160000.00\n",
            "Persentase Diskon: 5%\n",
            "Jumlah Diskon: Rp 8000.00\n",
            "Total Pembayaran: Rp 152000.00\n"
          ]
        }
      ]
    },
    {
      "cell_type": "code",
      "source": [
        "# Weekly Execise 4\n",
        "username = input(\"Username: \")\n",
        "email = input(\"Email: \")\n",
        "password = input(\"Password: \")\n",
        "\n",
        "\n",
        "if username == \"\":\n",
        "    print(\"Error: Harap isi bagian username.\\n\")\n",
        "elif \"@\" not in email:\n",
        "    print(\"Error: Email harus terdapat simbol '@'.\\n\")\n",
        "elif len(password) <= 8:\n",
        "    print(\"Error: Password harus lebih dari 8 karakter.\\n\")\n",
        "else:\n",
        "    print(\"Pembuatan user baru berhasil!\")\n",
        "    print(f\"Username: {username}\")\n",
        "    print(f\"Email: {email}\")\n",
        "    print(\"Password: (password disembunyikan)\")"
      ],
      "metadata": {
        "colab": {
          "base_uri": "https://localhost:8080/"
        },
        "id": "PuQVHnI3syvy",
        "outputId": "151fef68-eb82-4171-bb13-f2ce2eee2bdf"
      },
      "execution_count": null,
      "outputs": [
        {
          "output_type": "stream",
          "name": "stdout",
          "text": [
            "Username: arimbichh\n",
            "Email: arimbichh1104@gmail.com\n",
            "Password: nandungcantik\n",
            "Pembuatan user baru berhasil!\n",
            "Username: arimbichh\n",
            "Email: arimbichh1104@gmail.com\n",
            "Password: (password disembunyikan)\n"
          ]
        }
      ]
    }
  ]
}