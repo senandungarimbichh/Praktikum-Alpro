{
  "nbformat": 4,
  "nbformat_minor": 0,
  "metadata": {
    "colab": {
      "provenance": [],
      "authorship_tag": "ABX9TyPzzYqyw54rtEY0q6GJnJN0",
      "include_colab_link": true
    },
    "kernelspec": {
      "name": "python3",
      "display_name": "Python 3"
    },
    "language_info": {
      "name": "python"
    }
  },
  "cells": [
    {
      "cell_type": "markdown",
      "metadata": {
        "id": "view-in-github",
        "colab_type": "text"
      },
      "source": [
        "<a href=\"https://colab.research.google.com/github/senandungarimbichh/Praktikum-Alpro/blob/main/Week_04.ipynb\" target=\"_parent\"><img src=\"https://colab.research.google.com/assets/colab-badge.svg\" alt=\"Open In Colab\"/></a>"
      ]
    },
    {
      "cell_type": "code",
      "execution_count": null,
      "metadata": {
        "colab": {
          "base_uri": "https://localhost:8080/"
        },
        "id": "r_Vx3OkHQ0zJ",
        "outputId": "fd57fed1-07c7-4188-acaf-86d6ca3499fc"
      },
      "outputs": [
        {
          "output_type": "execute_result",
          "data": {
            "text/plain": [
              "True"
            ]
          },
          "metadata": {},
          "execution_count": 3
        }
      ],
      "source": [
        "# Condition Equal\n",
        "a = 25\n",
        "a == 25"
      ]
    },
    {
      "cell_type": "code",
      "source": [
        "i = 6\n",
        "i > 5"
      ],
      "metadata": {
        "colab": {
          "base_uri": "https://localhost:8080/"
        },
        "id": "nH4aQbA1SrdV",
        "outputId": "bfe502cb-caa9-4234-caea-f315e5559628"
      },
      "execution_count": null,
      "outputs": [
        {
          "output_type": "execute_result",
          "data": {
            "text/plain": [
              "True"
            ]
          },
          "metadata": {},
          "execution_count": 5
        }
      ]
    },
    {
      "cell_type": "code",
      "source": [
        "i = 9\n",
        "i <= 14"
      ],
      "metadata": {
        "colab": {
          "base_uri": "https://localhost:8080/"
        },
        "id": "SGuFn6sZVEdO",
        "outputId": "0cdec8b3-ce26-4424-d683-b1985f9d0779"
      },
      "execution_count": null,
      "outputs": [
        {
          "output_type": "execute_result",
          "data": {
            "text/plain": [
              "True"
            ]
          },
          "metadata": {},
          "execution_count": 6
        }
      ]
    },
    {
      "cell_type": "code",
      "source": [
        "i = 34\n",
        "i >= 34"
      ],
      "metadata": {
        "colab": {
          "base_uri": "https://localhost:8080/"
        },
        "id": "QmE_pS1QVm6w",
        "outputId": "3e0ec6f5-2f48-40e4-870a-f966da8b45d1"
      },
      "execution_count": null,
      "outputs": [
        {
          "output_type": "execute_result",
          "data": {
            "text/plain": [
              "True"
            ]
          },
          "metadata": {},
          "execution_count": 8
        }
      ]
    },
    {
      "cell_type": "code",
      "source": [
        "i = 25\n",
        "i <= 26"
      ],
      "metadata": {
        "colab": {
          "base_uri": "https://localhost:8080/"
        },
        "id": "hluD_OV3Wfnx",
        "outputId": "40efa7c3-5211-4ede-bead-dfcf5f2399d2"
      },
      "execution_count": null,
      "outputs": [
        {
          "output_type": "execute_result",
          "data": {
            "text/plain": [
              "True"
            ]
          },
          "metadata": {},
          "execution_count": 10
        }
      ]
    },
    {
      "cell_type": "code",
      "source": [
        "i = 7\n",
        "i != 10"
      ],
      "metadata": {
        "colab": {
          "base_uri": "https://localhost:8080/"
        },
        "id": "F5QrZdaOTkt_",
        "outputId": "e3231502-c8be-4ce5-b673-21c00aa7c784"
      },
      "execution_count": null,
      "outputs": [
        {
          "output_type": "execute_result",
          "data": {
            "text/plain": [
              "True"
            ]
          },
          "metadata": {},
          "execution_count": 4
        }
      ]
    },
    {
      "cell_type": "code",
      "source": [
        "\"ACDC\" == \"Senandung Marimby\""
      ],
      "metadata": {
        "colab": {
          "base_uri": "https://localhost:8080/"
        },
        "id": "QJDcr4w3YqfH",
        "outputId": "5a6f33de-9132-4411-b0b6-e76619c671f0"
      },
      "execution_count": null,
      "outputs": [
        {
          "output_type": "execute_result",
          "data": {
            "text/plain": [
              "False"
            ]
          },
          "metadata": {},
          "execution_count": 14
        }
      ]
    },
    {
      "cell_type": "code",
      "source": [
        "\"ACDC\" != \"Senandung Marimby\""
      ],
      "metadata": {
        "colab": {
          "base_uri": "https://localhost:8080/"
        },
        "id": "QLIBzMWcYhH2",
        "outputId": "f4e52dc5-57cb-4905-ee2b-f0ec46260c10"
      },
      "execution_count": null,
      "outputs": [
        {
          "output_type": "execute_result",
          "data": {
            "text/plain": [
              "True"
            ]
          },
          "metadata": {},
          "execution_count": 13
        }
      ]
    },
    {
      "cell_type": "code",
      "source": [
        "# Perbandingan string\n",
        "print(\"One_Direction\" == \"One_Direction\")  # Output: True\n",
        "print(\"Avenged\" == \"Slipknot\")             # Output: False\n",
        "\n",
        "# Perbandingan char\n",
        "print('X' > 'D')  # Output: True"
      ],
      "metadata": {
        "colab": {
          "base_uri": "https://localhost:8080/"
        },
        "id": "ZCKZsN1LXo2L",
        "outputId": "c7f3fbbb-067a-485b-f1e4-fbb05e8bb1a7"
      },
      "execution_count": null,
      "outputs": [
        {
          "output_type": "stream",
          "name": "stdout",
          "text": [
            "True\n",
            "False\n",
            "True\n"
          ]
        }
      ]
    },
    {
      "cell_type": "code",
      "source": [
        "#age = 19\n",
        "age = 18\n",
        "\n",
        "if age > 18:\n",
        "    print(\"you can enter\")\n",
        "print(\"Seperti takdir yang kita tulis\")"
      ],
      "metadata": {
        "colab": {
          "base_uri": "https://localhost:8080/"
        },
        "id": "7hqRoa6mb8_B",
        "outputId": "1f75096b-d5e0-4429-ba2d-c6fcc7145c5a"
      },
      "execution_count": null,
      "outputs": [
        {
          "output_type": "stream",
          "name": "stdout",
          "text": [
            "Seperti takdir yang kita tulis\n"
          ]
        }
      ]
    },
    {
      "cell_type": "code",
      "source": [
        "age = 18\n",
        "\n",
        "if age > 18:\n",
        "  print(\"you can enter\")\n",
        "else:\n",
        "  print(\"you can enter\")\n",
        "print(\"Seperti takdir yang kita tulis\")"
      ],
      "metadata": {
        "colab": {
          "base_uri": "https://localhost:8080/"
        },
        "id": "IX3LB8WydCiz",
        "outputId": "3b1131a5-54a1-45e7-e406-396db8ec6821"
      },
      "execution_count": null,
      "outputs": [
        {
          "output_type": "stream",
          "name": "stdout",
          "text": [
            "you can enter\n",
            "Seperti takdir yang kita tulis\n"
          ]
        }
      ]
    },
    {
      "cell_type": "code",
      "source": [
        "age = 17\n",
        "if age > 17:\n",
        "  print(\"you can enter\")\n",
        "elif age == 17:\n",
        "  print(\"you can stay\")\n",
        "else:\n",
        "  print(\"you can enter\")\n",
        "print(\"Seperti takdir yang kita tulis\")"
      ],
      "metadata": {
        "colab": {
          "base_uri": "https://localhost:8080/"
        },
        "id": "Dwa3uoDCeTXG",
        "outputId": "36c1aa63-4698-4bb6-96b8-de9e221f74b1"
      },
      "execution_count": null,
      "outputs": [
        {
          "output_type": "stream",
          "name": "stdout",
          "text": [
            "you can stay\n",
            "Seperti takdir yang kita tulis\n"
          ]
        }
      ]
    },
    {
      "cell_type": "code",
      "source": [
        "# Weekly Exercise 1\n",
        "# Silahkan buat kode program berdasarkan flowchart berikut ini :\n",
        "# Tentukan apakah diumur segitu bisa buat sim atau tidak\n",
        "umur = int(input(\"masukkan umur kamu : \"))\n",
        "\n",
        "if umur >= 17:\n",
        "    print(\"Boleh buat SIM\")\n",
        "else :\n",
        "    print(\"Tidak bisa buat SIM\")"
      ],
      "metadata": {
        "colab": {
          "base_uri": "https://localhost:8080/"
        },
        "id": "sRmaqO3bS_j0",
        "outputId": "a36c08ed-fa9c-4973-824a-cbb5dbc512bc"
      },
      "execution_count": null,
      "outputs": [
        {
          "output_type": "stream",
          "name": "stdout",
          "text": [
            "masukkan umur kamu : 20\n",
            "Boleh buat SIM\n"
          ]
        }
      ]
    },
    {
      "cell_type": "code",
      "source": [
        "# Weekly Exercise 1\n",
        "# Silahkan buat kode program berdasarkan flowchart berikut ini :\n",
        "# Tentukan apakah diumur segitu bisa buat sim atau tidak\n",
        "umur = int(input(\"masukkan umur kamu : \"))\n",
        "\n",
        "if umur >= 17:\n",
        "    print(\"Boleh buat SIM\")\n",
        "else :\n",
        "    print(\"Tidak bisa buat SIM\")"
      ],
      "metadata": {
        "colab": {
          "base_uri": "https://localhost:8080/"
        },
        "id": "EJnLeEtLdLAH",
        "outputId": "88347d47-6403-434b-a4ee-be78528b8d23"
      },
      "execution_count": null,
      "outputs": [
        {
          "output_type": "stream",
          "name": "stdout",
          "text": [
            "masukkan umur kamu : 11\n",
            "Tidak bisa buat SIM\n"
          ]
        }
      ]
    },
    {
      "cell_type": "code",
      "source": [
        "# Weekly Exercise 2\n",
        "# Silahkan buat kode program berdasarkan flowchart berikut ini :\n",
        "# program untuk menentukan grade nilai\n",
        "# input nilai\n",
        "nilai = int(input('Masukkan nilai : ' ))\n",
        "\n",
        "if (nilai) >= 90:\n",
        "  print ('grade anda = A')\n",
        "elif (nilai) >=80:\n",
        "  print ('grade anda = B+')\n",
        "elif (nilai) >70:\n",
        "  print ('grade anda = B')\n",
        "elif (nilai) >=60:\n",
        "  print ('grade anda = C+')\n",
        "elif (nilai) >50:\n",
        "  print ('grade anda = C')\n",
        "elif (nilai) >40:\n",
        "  print ('grade anda = D')\n",
        "else:\n",
        "  print ('grade anda = E')"
      ],
      "metadata": {
        "id": "3ZahzEBihBNs",
        "colab": {
          "base_uri": "https://localhost:8080/"
        },
        "outputId": "8b9db3d9-0341-4703-c434-fe507562940c"
      },
      "execution_count": null,
      "outputs": [
        {
          "output_type": "stream",
          "name": "stdout",
          "text": [
            "Masukkan nilai : 78\n",
            "grade anda = B\n"
          ]
        }
      ]
    },
    {
      "cell_type": "code",
      "source": [
        "# Weekly Exercise 3\n",
        "# modifikasi kode program Weekly Exercise 2\n",
        "\n",
        "nilai = input('Masukkan nilai:')\n",
        "\n",
        "if float(nilai) >= 80:\n",
        "    print ('Grade anda A')\n",
        "elif float(nilai) >= 77.5:\n",
        "    print ('Grade anda A-')\n",
        "elif float(nilai) >= 75:\n",
        "    print ('Grade anda A/B')\n",
        "elif float(nilai) >= 72.5:\n",
        "    print ('Grade anda B+')\n",
        "elif float(nilai) >= 70:\n",
        "    print ('Grade anda B')\n",
        "elif float(nilai) >= 67.5:\n",
        "    print ('Grade anda B-')\n",
        "elif float(nilai) >= 65:\n",
        "    print ('Grade anda B/C')\n",
        "elif float(nilai) >= 62.5:\n",
        "    print ('Grade anda C+')\n",
        "elif float(nilai) >= 60:\n",
        "    print ('Grade anda C')\n",
        "elif float(nilai) >= 55:\n",
        "    print ('Grade anda C-')\n",
        "elif float(nilai) >= 50:\n",
        "    print ('Grade anda C/D')\n",
        "elif float(nilai) >= 45:\n",
        "    print ('Grade anda D+')\n",
        "elif float(nilai) >= 40:\n",
        "    print ('Grade anda D')\n",
        "else:\n",
        "    print ('Grade anda E')"
      ],
      "metadata": {
        "colab": {
          "base_uri": "https://localhost:8080/"
        },
        "id": "Ied4P6fwO0nF",
        "outputId": "9bc8b4cb-c155-4457-83b3-278f5fd154e4"
      },
      "execution_count": null,
      "outputs": [
        {
          "output_type": "stream",
          "name": "stdout",
          "text": [
            "Masukkan nilai:45\n",
            "Grade anda D+\n"
          ]
        }
      ]
    },
    {
      "cell_type": "code",
      "source": [],
      "metadata": {
        "id": "MzHygPs5O1kQ"
      },
      "execution_count": null,
      "outputs": []
    }
  ]
}