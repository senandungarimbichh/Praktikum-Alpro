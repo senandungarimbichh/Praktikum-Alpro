{
  "nbformat": 4,
  "nbformat_minor": 0,
  "metadata": {
    "colab": {
      "provenance": [],
      "authorship_tag": "ABX9TyN7PHXdwIG57+XgajLG5Rms",
      "include_colab_link": true
    },
    "kernelspec": {
      "name": "python3",
      "display_name": "Python 3"
    },
    "language_info": {
      "name": "python"
    }
  },
  "cells": [
    {
      "cell_type": "markdown",
      "metadata": {
        "id": "view-in-github",
        "colab_type": "text"
      },
      "source": [
        "<a href=\"https://colab.research.google.com/github/senandungarimbichh/Praktikum-Alpro/blob/main/Week12.ipynb\" target=\"_parent\"><img src=\"https://colab.research.google.com/assets/colab-badge.svg\" alt=\"Open In Colab\"/></a>"
      ]
    },
    {
      "cell_type": "code",
      "execution_count": 6,
      "metadata": {
        "colab": {
          "base_uri": "https://localhost:8080/"
        },
        "id": "ySgqYlwnUTRt",
        "outputId": "c427a953-f9ec-4b45-d6ce-e50207e03ef4"
      },
      "outputs": [
        {
          "output_type": "stream",
          "name": "stdout",
          "text": [
            "\n",
            "Pilih perhitungan:\n",
            "1. Luas Lingkaran\n",
            "2. Luas Persegi\n",
            "3. Luas Segitiga\n",
            "4. Selesai\n",
            "Masukkan pilihan (1/2/3/4): 1\n",
            "Jari-jari lingkaran: F\n",
            "Hanya boleh memasukkan angka\n",
            "Jari-jari lingkaran: 3\n",
            "Luas lingkaran: 28.26\n",
            "\n",
            "Pilih perhitungan:\n",
            "1. Luas Lingkaran\n",
            "2. Luas Persegi\n",
            "3. Luas Segitiga\n",
            "4. Selesai\n",
            "Masukkan pilihan (1/2/3/4): 4\n",
            "Program selesai.\n"
          ]
        }
      ],
      "source": [
        "def luas_lingkaran(r):\n",
        "    return 3.14 * r**2\n",
        "\n",
        "def luas_persegi(sisi):\n",
        "    return sisi**2\n",
        "\n",
        "def luas_segitiga(a, t):\n",
        "    return 0.5 * a * t\n",
        "\n",
        "def input_float(prompt):\n",
        "    while True:\n",
        "        try:\n",
        "            value = input(prompt)\n",
        "            if not value:\n",
        "                raise ValueError(\"Tidak boleh kosong\")\n",
        "            return float(value)\n",
        "        except Exception:\n",
        "            print(\"Hanya boleh memasukkan angka\")\n",
        "\n",
        "def hasil():\n",
        "    print(\"\\nPilih perhitungan:\")\n",
        "    print(\"1. Luas Lingkaran\")\n",
        "    print(\"2. Luas Persegi\")\n",
        "    print(\"3. Luas Segitiga\")\n",
        "    print(\"4. Selesai\")\n",
        "\n",
        "    pilihan = input(\"Masukkan pilihan (1/2/3/4): \")\n",
        "\n",
        "    if pilihan == '1':\n",
        "        r = input_float(\"Jari-jari lingkaran: \")\n",
        "        luas = luas_lingkaran(r)\n",
        "        print(f\"Luas lingkaran: {luas:.2f}\")\n",
        "\n",
        "    elif pilihan == '2':\n",
        "        sisi = input_float(\"Panjang sisi persegi: \")\n",
        "        luas = luas_persegi(sisi)\n",
        "        print(f\"Luas persegi: {luas:.2f}\")\n",
        "\n",
        "    elif pilihan == '3':\n",
        "        a = input_float(\"Panjang alas segitiga: \")\n",
        "        t = input_float(\"Tinggi segitiga: \")\n",
        "        luas = luas_segitiga(a, t)\n",
        "        print(f\"Luas segitiga: {luas:.2f}\")\n",
        "\n",
        "    elif pilihan == '4':\n",
        "        print(\"Program selesai.\")\n",
        "        return 0\n",
        "\n",
        "    else:\n",
        "        print(\"Pilihan tidak valid. Silakan coba lagi dengan memasukkan angka 1, 2, 3, atau 4.\")\n",
        "\n",
        "    hasil()\n",
        "\n",
        "hasil()"
      ]
    },
    {
      "cell_type": "code",
      "source": [
        "npm = input(\"Masukkan npm kamu: \")\n",
        "\n",
        "genap, ganjil = 0, 0\n",
        "\n",
        "for angka in npm:\n",
        "    try:\n",
        "        angka = int(angka)\n",
        "        if angka % 2 == 0:  # Cek apakah angka genap\n",
        "            genap += 1\n",
        "        else:  # Jika tidak, berarti ganjil\n",
        "            ganjil += 1\n",
        "    except ValueError:\n",
        "        print(f\"'{angka}' ini bukan angka coy.\")\n",
        "\n",
        "print(\"Jumlah angka genap: \", genap)\n",
        "print(\"Jumlah angka ganjil: \", ganjil)"
      ],
      "metadata": {
        "colab": {
          "base_uri": "https://localhost:8080/"
        },
        "id": "rXZP4I_7XRKL",
        "outputId": "0119f6a2-7b0c-4c43-d12d-cc8e6bc49d90"
      },
      "execution_count": 3,
      "outputs": [
        {
          "output_type": "stream",
          "name": "stdout",
          "text": [
            "Masukkan npm kamu: F\n",
            "'F' ini bukan angka coy.\n",
            "Jumlah angka genap:  0\n",
            "Jumlah angka ganjil:  0\n"
          ]
        }
      ]
    }
  ]
}
