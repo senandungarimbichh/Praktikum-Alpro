{
  "nbformat": 4,
  "nbformat_minor": 0,
  "metadata": {
    "colab": {
      "provenance": [],
      "authorship_tag": "ABX9TyPjnjCZLqPrOAkeTskvcmVG",
      "include_colab_link": true
    },
    "kernelspec": {
      "name": "python3",
      "display_name": "Python 3"
    },
    "language_info": {
      "name": "python"
    }
  },
  "cells": [
    {
      "cell_type": "markdown",
      "metadata": {
        "id": "view-in-github",
        "colab_type": "text"
      },
      "source": [
        "<a href=\"https://colab.research.google.com/github/senandungarimbichh/Praktikum-Alpro/blob/main/LiveUTS_2430506050.ipynb\" target=\"_parent\"><img src=\"https://colab.research.google.com/assets/colab-badge.svg\" alt=\"Open In Colab\"/></a>"
      ]
    },
    {
      "cell_type": "code",
      "execution_count": null,
      "metadata": {
        "id": "DLUbDcA9ZV1I",
        "colab": {
          "base_uri": "https://localhost:8080/"
        },
        "outputId": "5f77b12d-65f6-4a38-8080-7bb70a7b53a3"
      },
      "outputs": [
        {
          "output_type": "stream",
          "name": "stdout",
          "text": [
            "Masukkan NPM Anda: 2430506050\n",
            "berapa angka genapnya:  7\n",
            "berapa angka ganjilnya :  3\n"
          ]
        }
      ],
      "source": [
        "#Masukkan NPM Anda\n",
        "NPM = input(\"Masukkan NPM Anda: \")\n",
        "\n",
        "genap, ganjil = 0,0\n",
        "\n",
        "for angka in NPM:\n",
        "\tangka = int(angka)\n",
        "\n",
        "\tif angka ^ 1 == angka + 1:\n",
        "\t\tgenap += 1\n",
        "\n",
        "\telse:\n",
        "\t\tganjil += 1\n",
        "#identifikasi apakah ini bilangan ganjil atau genap\n",
        "print(\"berapa angka genapnya: \", genap)\n",
        "print(\"berapa angka ganjilnya : \", ganjil)"
      ]
    },
    {
      "cell_type": "code",
      "source": [
        "#Menampilkan Segitiga\n",
        "n = int(input(\"Masukkan Jumlah Baris: \"))\n",
        "i = 1\n",
        "while i <= n:\n",
        "    j = 1\n",
        "    while j <= i:\n",
        "        print(i*j, end= \" \")\n",
        "        j +=1\n",
        "    print()\n",
        "    i += 1"
      ],
      "metadata": {
        "id": "_oV1AfZwkLkF",
        "colab": {
          "base_uri": "https://localhost:8080/"
        },
        "outputId": "a7db6d41-766b-478f-9eeb-030ce9fbdf7d"
      },
      "execution_count": null,
      "outputs": [
        {
          "output_type": "stream",
          "name": "stdout",
          "text": [
            "Masukkan Jumlah Baris: 10\n",
            "1 \n",
            "2 4 \n",
            "3 6 9 \n",
            "4 8 12 16 \n",
            "5 10 15 20 25 \n",
            "6 12 18 24 30 36 \n",
            "7 14 21 28 35 42 49 \n",
            "8 16 24 32 40 48 56 64 \n",
            "9 18 27 36 45 54 63 72 81 \n",
            "10 20 30 40 50 60 70 80 90 100 \n"
          ]
        }
      ]
    },
    {
      "cell_type": "code",
      "source": [],
      "metadata": {
        "id": "YFS5Z3U8PYUH"
      },
      "execution_count": null,
      "outputs": []
    }
  ]
}