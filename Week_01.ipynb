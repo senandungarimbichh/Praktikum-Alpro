{
  "nbformat": 4,
  "nbformat_minor": 0,
  "metadata": {
    "colab": {
      "provenance": [],
      "authorship_tag": "ABX9TyNzO+nhdZLQiQeka7pF51ld",
      "include_colab_link": true
    },
    "kernelspec": {
      "name": "python3",
      "display_name": "Python 3"
    },
    "language_info": {
      "name": "python"
    }
  },
  "cells": [
    {
      "cell_type": "markdown",
      "metadata": {
        "id": "view-in-github",
        "colab_type": "text"
      },
      "source": [
        "<a href=\"https://colab.research.google.com/github/senandungarimbichh/Praktikum-Alpro/blob/main/Week_01.ipynb\" target=\"_parent\"><img src=\"https://colab.research.google.com/assets/colab-badge.svg\" alt=\"Open In Colab\"/></a>"
      ]
    },
    {
      "cell_type": "markdown",
      "source": [],
      "metadata": {
        "id": "UCCvhN--bUPy"
      }
    },
    {
      "cell_type": "markdown",
      "source": [
        "Hello world"
      ],
      "metadata": {
        "id": "Qr_9ydIPSQIr"
      }
    },
    {
      "cell_type": "code",
      "source": [
        "# Try your first Python output\n",
        "print ('Hello guyss')"
      ],
      "metadata": {
        "colab": {
          "base_uri": "https://localhost:8080/"
        },
        "id": "lu2o7HvGSbBp",
        "outputId": "4672510a-ef6d-463d-fce6-e8cf6832186f"
      },
      "execution_count": null,
      "outputs": [
        {
          "output_type": "stream",
          "name": "stdout",
          "text": [
            "Hello guyss\n"
          ]
        }
      ]
    },
    {
      "cell_type": "code",
      "source": [
        "# Try to display \"Teknologi Informasi\" -Universitas Tidar\n",
        "print(\"Universitas Tidar\")"
      ],
      "metadata": {
        "colab": {
          "base_uri": "https://localhost:8080/"
        },
        "id": "jOoT_0r_SZJw",
        "outputId": "1c424450-89f8-4135-b373-62f15a895277"
      },
      "execution_count": null,
      "outputs": [
        {
          "output_type": "stream",
          "name": "stdout",
          "text": [
            "Universitas Tidar\n"
          ]
        }
      ]
    },
    {
      "cell_type": "code",
      "source": [
        "# Check the Python Version\n",
        "import sys\n",
        "print(sys.version)"
      ],
      "metadata": {
        "colab": {
          "base_uri": "https://localhost:8080/"
        },
        "id": "-dpmIVHGUUV_",
        "outputId": "38cf95e7-b43d-4492-b555-46e120187648"
      },
      "execution_count": null,
      "outputs": [
        {
          "output_type": "stream",
          "name": "stdout",
          "text": [
            "3.10.12 (main, Jul 29 2024, 16:56:48) [GCC 11.4.0]\n"
          ]
        }
      ]
    },
    {
      "cell_type": "code",
      "source": [
        "print(\"Nama         : Senandung Marimby Zahira Malika\")\n",
        "print(\"NPM          : 2430506050\")\n",
        "print(\"Alamat       : Jl. Dumpoh raya\")\n",
        "print(\"Tinggi Badan : 165\")\n",
        "print(\"Berat Badan  : 65\")"
      ],
      "metadata": {
        "colab": {
          "base_uri": "https://localhost:8080/"
        },
        "id": "OJDKO_HgUs5P",
        "outputId": "0010ce01-9a8b-48bd-fe9a-250b4a81d399"
      },
      "execution_count": null,
      "outputs": [
        {
          "output_type": "stream",
          "name": "stdout",
          "text": [
            "Nama         : Senandung Marimby Zahira Malika\n",
            "NPM          : 2430506050\n",
            "Alamat       : Jl. Dumpoh raya\n",
            "Tinggi Badan : 165\n",
            "Berat Badan  : 65\n"
          ]
        }
      ]
    },
    {
      "cell_type": "code",
      "source": [
        "print ('\\033[1mUNIVERSITAS TIDAR \\033[0m')\n",
        "print(\"Universitas Tidar merupakan Perguruan Tinggi pemerintah atau Perguruan Tinggi yang telah ditetapkan berdasarkan Peraturan Presiden Republik Indonesia Nomor 23 Tahun 2014 pada tanggal 1 April 2014.\")\n",
        "print('\\033[1mJURUSAN TEKNIK ELEKTRO, MEKATRONIKA DAN INFORMASI \\033[0m')\n",
        "print(\"Jurusan Teknik Elektro terdiri atas tiga program studi, antara lain:\")\n",
        "print(\"   1. S1 Teknik Elektro (\\033[3mBachelor of Electrial Engineering \\033[0m)\")\n",
        "print(\"   2. S1 Teknologi Informasi (\\033[3mBachelor of Information Technology \\033[0m)\")\n",
        "print(\"   3. S1 Teknik Mekatronika (\\033[3mBachelor of Mechatronic Engineering \\033[0m)\")"
      ],
      "metadata": {
        "colab": {
          "base_uri": "https://localhost:8080/"
        },
        "id": "-6m3D7NQZcD-",
        "outputId": "2a502765-75b5-4af0-abee-28040cdc6404"
      },
      "execution_count": null,
      "outputs": [
        {
          "output_type": "stream",
          "name": "stdout",
          "text": [
            "\u001b[1mUNIVERSITAS TIDAR \u001b[0m\n",
            "Universitas Tidar merupakan Perguruan Tinggi pemerintah atau Perguruan Tinggi yang telah ditetapkan berdasarkan Peraturan Presiden Republik Indonesia Nomor 23 Tahun 2014 pada tanggal 1 April 2014.\n",
            "\u001b[1mJURUSAN TEKNIK ELEKTRO, MEKATRONIKA DAN INFORMASI \u001b[0m\n",
            "Jurusan Teknik Elektro terdiri atas tiga program studi, antara lain:\n",
            "   1. S1 Teknik Elektro (\u001b[3mBachelor of Electrial Engineering \u001b[0m)\n",
            "   2. S1 Teknologi Informasi (\u001b[3mBachelor of Information Technology \u001b[0m)\n",
            "   3. S1 Teknik Mekatronika (\u001b[3mBachelor of Mechatronic Engineering \u001b[0m)\n"
          ]
        }
      ]
    },
    {
      "cell_type": "code",
      "source": [],
      "metadata": {
        "id": "TddSSce9dB9C"
      },
      "execution_count": null,
      "outputs": []
    }
  ]
}